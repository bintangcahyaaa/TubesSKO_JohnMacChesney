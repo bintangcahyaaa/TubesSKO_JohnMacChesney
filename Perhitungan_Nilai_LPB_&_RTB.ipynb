{
  "nbformat": 4,
  "nbformat_minor": 0,
  "metadata": {
    "colab": {
      "name": "Perhitungan Nilai LPB & RTB",
      "provenance": [],
      "authorship_tag": "ABX9TyN5Cqk/Wap85tN6yt7PacxH",
      "include_colab_link": true
    },
    "kernelspec": {
      "name": "python3",
      "display_name": "Python 3"
    },
    "language_info": {
      "name": "python"
    }
  },
  "cells": [
    {
      "cell_type": "markdown",
      "metadata": {
        "id": "view-in-github",
        "colab_type": "text"
      },
      "source": [
        "<a href=\"https://colab.research.google.com/github/bintangcahyaaa/TubesSKO_JohnMacChesney/blob/main/Perhitungan_Nilai_LPB_%26_RTB.ipynb\" target=\"_parent\"><img src=\"https://colab.research.google.com/assets/colab-badge.svg\" alt=\"Open In Colab\"/></a>"
      ]
    },
    {
      "cell_type": "markdown",
      "source": [
        "TUBES SKO Kelompok JohnMacChesney\n",
        "1. Tegar Jati Samudra  (1101194087)\n",
        "2. Bintang Cahya Anwar (1101194194)\n",
        "3. Mahendra Yurnell    (1101194139)"
      ],
      "metadata": {
        "id": "P4DhN0S5pSu9"
      }
    },
    {
      "cell_type": "code",
      "execution_count": 1,
      "metadata": {
        "colab": {
          "base_uri": "https://localhost:8080/"
        },
        "id": "1dRWGxJhjTDc",
        "outputId": "e4f24da1-162c-4f15-b40a-bb5f9f094791"
      },
      "outputs": [
        {
          "output_type": "stream",
          "name": "stdout",
          "text": [
            "PLB terpenuhi!\n",
            "RTB NRZ terpenuhi!\n",
            "RTB RZ terpenuhi!\n"
          ]
        }
      ],
      "source": [
        "import numpy as np\n",
        "import matplotlib.pyplot as plt\n",
        "#perhitungan POWER LINK BUDGET dan RISE TIME BUDGET pada kabel Single Mode (SM G.655)\n",
        "\n",
        "#inisialisasi data utk perhitungan PLB dengan jarak STO Lembang - STO Ahmad Yani, Bandung (19 km)\n",
        "# ============================================================================= #\n",
        "L   = 19                   #jarak/panjang link (L)\n",
        "l   = 3                      #panjang kabel (km/haspel)\n",
        "Ms  = 4                      #margin system (dB)\n",
        "af  = 0.60                  #redaman fiber (dB)\n",
        "ac  = 0.19                    #redaman konektor (dB/konektor)\n",
        "asp = 2.5                    #redaman splicing (dB/splice)    \n",
        "sen = -29                    #sensitivitas PD (dBm)\n",
        "# ============================================================================= #\n",
        "\n",
        "\n",
        "#perhitungan merubah DAYA KIRIM LASER (mW) ke bentuk (dBm)\n",
        "# ============================================================================= #\n",
        "Ps=8                       #Daya kirim laser (mW)\n",
        "Ptx=10*np.log10(Ps)        #Daya kirim laser (dBm)\n",
        "# ============================================================================= #\n",
        "\n",
        "\n",
        "#perhitungan POWER LINK BUDGET\n",
        "# ============================================================================= #\n",
        "#rumus perhitungan BANYAK SPLICE\n",
        "n = (L/l)-1\n",
        "# = 5,33 #jumlah splicing\n",
        "\n",
        "#rumus perhitungan REDAMAN TOTAL (dB)\n",
        "AT = 2*ac+n*asp+af*L+Ms\n",
        "#  = 24.35 #dB\n",
        "\n",
        "#rumus perhitungan DAYA TERIMA (dBm)\n",
        "Prx = Ptx - AT\n",
        "#   = -15,32 #dBm\n",
        "# ============================================================================= #\n",
        "\n",
        "\n",
        "#cek apakah POWER LINK BUDGET memenuhi/tidak memenuhi\n",
        "# ============================================================================= #\n",
        "if Prx>=sen:\n",
        "    print ('PLB terpenuhi!')\n",
        "else :\n",
        "    print ('PLB tidak terpenuhi!')\n",
        "# ============================================================================= #\n",
        "\n",
        "\n",
        "#inisialisasi data utk perhitungan RTB dengan jarak STO Lembang - STO Ahmad Yani, Bandung (19 km)\n",
        "# ============================================================================= #\n",
        "Dmat  = 0.023                   #dispersi material (ns/nm.km bila LS laser diabaikan)\n",
        "Dwg   = 0                       #dispersi waveguide (ns/nm.km)\n",
        "dho   = 0.1                     #lebar spektral (nm)\n",
        "Br    = 2.5e9                   #bitrate (bps)\n",
        "ttx   = 0.035                   #rise time Tx (ns)\n",
        "trx   = 0.035                   #rise time Rx (ns)\n",
        "# ============================================================================= #\n",
        "\n",
        "\n",
        "#perhitungan RISE TIME BUDGET\n",
        "# ============================================================================= #\n",
        "tmat  = Dmat*L*dho              #rise time material (ns)\n",
        "twg   = Dwg*L*dho\n",
        "# ============================================================================= #\n",
        "\n",
        "\n",
        "#perhitungan RISE TIME SYSTEM\n",
        "# ============================================================================= #\n",
        "tsys    = np.sqrt((ttx**2)+(trx**2)+(tmat**2)+(twg**2))\n",
        "Tb      = (1/Br)\n",
        "tranNRZ = 0.7*Tb*1e9\n",
        "tranRZ  = 0.35*Tb*1e9\n",
        "# ============================================================================= #\n",
        "\n",
        "\n",
        "#cek apakah RISE TIME BUDGET memenuhi/tidak memenuhi\n",
        "# ============================================================================= #\n",
        "if tsys<=(tranNRZ):\n",
        "    print ('RTB NRZ terpenuhi!')\n",
        "else :\n",
        "    print ('RTB NRZ tidak terpenuhi!')\n",
        "    \n",
        "if tsys<=(tranRZ):\n",
        "    print ('RTB RZ terpenuhi!')\n",
        "else :\n",
        "    print ('RTB RZ tidak terpenuhi!')\n",
        "# ============================================================================= #\n",
        "\n",
        "# ============================================================================= #\n",
        "\n",
        "#Prx array()\n",
        "#plt.plot(L, tsys)\n",
        "#plt.xlabel(\"Jarak (km)\")\n",
        "#plt.ylabel(\"Daya Terima (dBm)\")\n",
        "#plt.title(\"Kurva Link Power Budget\")\n",
        "#plt.show()\n",
        "# ============================================================================= #"
      ]
    }
  ]
}