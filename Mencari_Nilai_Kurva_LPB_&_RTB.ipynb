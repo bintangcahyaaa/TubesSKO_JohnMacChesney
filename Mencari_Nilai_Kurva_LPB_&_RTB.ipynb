{
  "nbformat": 4,
  "nbformat_minor": 0,
  "metadata": {
    "colab": {
      "name": "Mencari Nilai Kurva LPB & RTB",
      "provenance": [],
      "authorship_tag": "ABX9TyOmNkAP7F0BtUReKVjTGdrV",
      "include_colab_link": true
    },
    "kernelspec": {
      "name": "python3",
      "display_name": "Python 3"
    },
    "language_info": {
      "name": "python"
    }
  },
  "cells": [
    {
      "cell_type": "markdown",
      "metadata": {
        "id": "view-in-github",
        "colab_type": "text"
      },
      "source": [
        "<a href=\"https://colab.research.google.com/github/bintangcahyaaa/TubesSKO_JohnMacChesney/blob/main/Mencari_Nilai_Kurva_LPB_%26_RTB.ipynb\" target=\"_parent\"><img src=\"https://colab.research.google.com/assets/colab-badge.svg\" alt=\"Open In Colab\"/></a>"
      ]
    },
    {
      "cell_type": "markdown",
      "source": [
        "TUBES SKO Kelompok JohnMacChesney\n",
        "1. Tegar Jati Samudra  (1101194087)\n",
        "2. Bintang Cahya Anwar (1101194194)\n",
        "3. Mahendra Yurnell    (1101194139)"
      ],
      "metadata": {
        "id": "08lnGYU-oh-V"
      }
    },
    {
      "cell_type": "code",
      "execution_count": 1,
      "metadata": {
        "id": "T-sfkCAorkwS"
      },
      "outputs": [],
      "source": [
        "from math import log10, sqrt\n",
        "import numpy as np\n",
        "import matplotlib.pyplot as plt"
      ]
    },
    {
      "cell_type": "code",
      "source": [
        "#-- Kabel FO G.655\n",
        "L=np.arange(1,20.0,1) #km\n",
        "haspel = 3 #km\n",
        "dispersi_material = 23e-12 #s/km.nm\n",
        "alpha_f = 0.60 #dB/km"
      ],
      "metadata": {
        "id": "hgI57jObrmnv"
      },
      "execution_count": 2,
      "outputs": []
    },
    {
      "cell_type": "code",
      "source": [
        "#-- Pengirim\n",
        "ptx = 8 #mW\n",
        "ptx_db = 10*log10(ptx)\n",
        "spektral = 0.1 #nm\n",
        "t_tx = 35e-12 #s\n",
        "mod_NRZ = 0.7 #NRZ\n",
        "mod_RZ = 0.35 #RZ\n",
        "bitrate = 2.5e9 #2.5 Gbps\n",
        "tb = 1/bitrate #timebit(1 bit butuh berapa waktu utk dikirimkan)"
      ],
      "metadata": {
        "id": "ennoe6cmrq4W"
      },
      "execution_count": 3,
      "outputs": []
    },
    {
      "cell_type": "code",
      "source": [
        "#-- Pengirim\n",
        "sensitivitas = -29 #dBm\n",
        "t_rx = 35e-12 #s"
      ],
      "metadata": {
        "id": "J-AsB6UPrq_0"
      },
      "execution_count": 4,
      "outputs": []
    },
    {
      "cell_type": "code",
      "source": [
        "#-- Redaman Kanal\n",
        "n_c = 2 #jumlah redaman\n",
        "alpha_c = 0.19 #tiap ada titik konektor meredam 0.1 db/detik\n",
        "n_splice = (L/haspel)-1\n",
        "alpha_splice = 2.5 #db/titik redaman per titik\n",
        "ms = 4 #db >> biaya tak terduga pada redaman(db) biasanya 2x lipat"
      ],
      "metadata": {
        "id": "GeE63SbfrrHO"
      },
      "execution_count": 5,
      "outputs": []
    },
    {
      "cell_type": "code",
      "source": [
        "alpha_t = n_c*alpha_c+n_splice*alpha_splice+L*alpha_f+ms\n",
        "#print(\"Redaman Kabel : \",alpha_t,\"dB\")"
      ],
      "metadata": {
        "id": "tNIWbJXsrrOg"
      },
      "execution_count": 6,
      "outputs": []
    },
    {
      "cell_type": "code",
      "source": [
        "prx = ptx_db - alpha_t"
      ],
      "metadata": {
        "id": "hKCSeCKrrrVd"
      },
      "execution_count": 7,
      "outputs": []
    },
    {
      "cell_type": "code",
      "source": [
        "prx"
      ],
      "metadata": {
        "colab": {
          "base_uri": "https://localhost:8080/"
        },
        "id": "WNgcrz_orrcI",
        "outputId": "7c5c1089-b21a-47a8-defe-692f17213048"
      },
      "execution_count": 8,
      "outputs": [
        {
          "output_type": "execute_result",
          "data": {
            "text/plain": [
              "array([ 5.71756654e+00,  4.28423320e+00,  2.85089987e+00,  1.41756654e+00,\n",
              "       -1.57667967e-02, -1.44910013e+00, -2.88243346e+00, -4.31576680e+00,\n",
              "       -5.74910013e+00, -7.18243346e+00, -8.61576680e+00, -1.00491001e+01,\n",
              "       -1.14824335e+01, -1.29157668e+01, -1.43491001e+01, -1.57824335e+01,\n",
              "       -1.72157668e+01, -1.86491001e+01, -2.00824335e+01])"
            ]
          },
          "metadata": {},
          "execution_count": 8
        }
      ]
    },
    {
      "cell_type": "code",
      "source": [
        "t_mat = dispersi_material*L*spektral\n",
        "t_wg = 0 #diabaikan\n",
        "t_mod = 0 #dianggap menggunakan kabel SM\n",
        "\n",
        "t_sys = np.sqrt(t_tx**2+\n",
        "             t_mat**2+\n",
        "             t_mod**2+\n",
        "             t_wg**2+\n",
        "             t_rx**2)\n",
        "t_sys"
      ],
      "metadata": {
        "colab": {
          "base_uri": "https://localhost:8080/"
        },
        "id": "C8IuVSHRrrmB",
        "outputId": "844a6e2f-33d3-495b-b54b-1ee9a4e2d218"
      },
      "execution_count": 9,
      "outputs": [
        {
          "output_type": "execute_result",
          "data": {
            "text/plain": [
              "array([4.95508829e-11, 4.97107634e-11, 4.99760943e-11, 5.03452083e-11,\n",
              "       5.08158440e-11, 5.13852119e-11, 5.20500720e-11, 5.28068177e-11,\n",
              "       5.36515610e-11, 5.45802162e-11, 5.55885780e-11, 5.66723919e-11,\n",
              "       5.78274156e-11, 5.90494708e-11, 6.03344843e-11, 6.16785214e-11,\n",
              "       6.30778091e-11, 6.45287533e-11, 6.60279486e-11])"
            ]
          },
          "metadata": {},
          "execution_count": 9
        }
      ]
    },
    {
      "cell_type": "code",
      "source": [
        "plt.plot(L,prx)\n",
        "plt.xlabel(\"Jarak (km)\")\n",
        "plt.ylabel(\"Daya Terima (dBm)\")\n",
        "plt.title(\"Kurva Power Link Budget\")"
      ],
      "metadata": {
        "colab": {
          "base_uri": "https://localhost:8080/",
          "height": 312
        },
        "id": "BSZIDjk6rrs-",
        "outputId": "c1125015-3e0c-42fa-dba2-59d72a4b1133"
      },
      "execution_count": 10,
      "outputs": [
        {
          "output_type": "execute_result",
          "data": {
            "text/plain": [
              "Text(0.5, 1.0, 'Kurva Power Link Budget')"
            ]
          },
          "metadata": {},
          "execution_count": 10
        },
        {
          "output_type": "display_data",
          "data": {
            "image/png": "[encoded data removed]",
            "text/plain": [
              "<Figure size 432x288 with 1 Axes>"
            ]
          },
          "metadata": {
            "needs_background": "light"
          }
        }
      ]
    },
    {
      "cell_type": "code",
      "source": [
        "plt.plot(L,t_sys)\n",
        "plt.xlabel(\"Jarak (km)\")\n",
        "plt.ylabel(\"Dispersi System (s)\")\n",
        "plt.title(\"Kurva Rise Time Budget\")"
      ],
      "metadata": {
        "colab": {
          "base_uri": "https://localhost:8080/",
          "height": 312
        },
        "id": "Wudcpv_Yrr0u",
        "outputId": "045ef660-7007-4934-cd4e-0333a43a7832"
      },
      "execution_count": 11,
      "outputs": [
        {
          "output_type": "execute_result",
          "data": {
            "text/plain": [
              "Text(0.5, 1.0, 'Kurva Rise Time Budget')"
            ]
          },
          "metadata": {},
          "execution_count": 11
        },
        {
          "output_type": "display_data",
          "data": {
            "image/png": "[encoded data removed]",
            "text/plain": [
              "<Figure size 432x288 with 1 Axes>"
            ]
          },
          "metadata": {
            "needs_background": "light"
          }
        }
      ]
    }
  ]
}